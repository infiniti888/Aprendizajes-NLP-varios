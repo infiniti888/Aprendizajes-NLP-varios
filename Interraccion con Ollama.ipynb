{
 "cells": [
  {
   "cell_type": "code",
   "execution_count": 3,
   "id": "19ed291a",
   "metadata": {},
   "outputs": [],
   "source": [
    "import ollama\n",
    "import time\n",
    "#Tienes que haber descargado ollama, ejecutado ollama.setup y haber escrito ollama run llama2"
   ]
  },
  {
   "cell_type": "code",
   "execution_count": 4,
   "id": "72a70d19",
   "metadata": {},
   "outputs": [
    {
     "name": "stdout",
     "output_type": "stream",
     "text": [
      "Sure! Here's one:\n",
      "\n",
      "Why don't scientists trust atoms?\n",
      "Because they make up everything!\n",
      "\n",
      "I hope that brought a smile to your face! Do you want to hear another one?\n",
      "18.714722871780396 seconds\n"
     ]
    }
   ],
   "source": [
    "#Ejecuta esta celda con el adaptador de red conectado\n",
    "#Prueba a desconnectar el adaptador de red y ejecuta esta celda otra vez, que sucede?\n",
    "start_time = time.time()\n",
    "#Ollama tiene 3 roles para los mensajes \"system\", \"user\", y \"assistant\"\n",
    "response = ollama.chat(model='llama2', messages=[\n",
    "  {\n",
    "    'role': 'user',\n",
    "    'content': 'Tell me a joke',\n",
    "  },\n",
    "])\n",
    "print(response['message']['content'])\n",
    "print(time.time() - start_time, \"seconds\")\n"
   ]
  },
  {
   "cell_type": "code",
   "execution_count": 5,
   "id": "5ceda39f",
   "metadata": {},
   "outputs": [
    {
     "name": "stdout",
     "output_type": "stream",
     "text": [
      "\n",
      "The Odyssey is an ancient Greek epic poem attributed to the poet Homer. It tells the story of the Greek hero Odysseus and his journey home after the Trojan War. The poem follows Odysseus as he faces challenges and obstacles on his journey, including encounters with various gods and monsters, and struggles against the suitors who are competing for his wife's hand in marriage.\n",
      "\n",
      "The Odyssey begins with the goddess Athena inspiring Odysseus to return home after the Trojan War, which he had fought in as a member of King Agamemnon's army. However, upon his arrival in Ithaca, Odysseus finds that his kingdom has been overrun by suitors who are vying for the hand of his wife, Penelope. Odysseus must then use his cunning and intelligence to outwit the suitors and reclaim his rightful place as king.\n",
      "\n",
      "Throughout his journey, Odysseus encounters various gods and monsters, including the Cyclops Polyphemus, the Sirens, and the sea god Poseidon. He must also overcome challenges such as the whirlpool Charybdis and the land of the Lotus-Eaters, where he and his men are tempted to stay forever.\n",
      "\n",
      "Despite these obstacles, Odysseus perseveres and eventually returns home to Penelope and their son Telemachus. The poem ends with Odysseus's victory over the suitors and his reunion with his family.\n",
      "\n",
      "The Odyssey is a classic tale of adventure, courage, and determination, and has been widely studied and admired for centuries. Its themes of homecoming, identity, and the struggle between mortals and gods continue to resonate with readers today.\n",
      "115.36915135383606 seconds\n"
     ]
    }
   ],
   "source": [
    "#Ahora le vamos a hacer una pregunta en que tendrá que buscar información (seguimos con el adaptador desconectado)\n",
    "#Ahora conectalo de nuevo y compara la diferencia entre el tiempo de ejecución\n",
    "start_time = time.time()\n",
    "response = ollama.chat(model='llama2', messages=[\n",
    "  {\n",
    "    'role': 'user',\n",
    "    'content': 'Tell me what is The Odissey about',\n",
    "  },\n",
    "])\n",
    "print(response['message']['content'])\n",
    "print(time.time() - start_time, \"seconds\")\n"
   ]
  },
  {
   "cell_type": "code",
   "execution_count": 6,
   "id": "a9ca1aa0",
   "metadata": {},
   "outputs": [
    {
     "name": "stdout",
     "output_type": "stream",
     "text": [
      "\n",
      "\n",
      "To create a system message in Python, you can use the `sys` module. Here's an example of how to do this:\n",
      "```\n",
      "import sys\n",
      "\n",
      "# Print a message to the user\n",
      "print(\"Hello, World!\")\n",
      "\n",
      "# Print a message and exit the program\n",
      "sys.exit(\"Goodbye, World!\")\n",
      "```\n",
      "In the first line of code, we import the `sys` module, which provides functions for interacting with the operating system. In the second line of code, we use the `print()` function to print a message to the user.\n",
      "\n",
      "In the third line of code, we use the `sys.exit()` function to exit the program. This will immediately terminate the program and return control to the operating system.\n",
      "\n",
      "You can modify these examples to create your own system messages in Python. For example, you could use the `print()` function to print a message with information about the program or the environment, such as the current date and time, the user's username, or the path of the executable file.\n",
      "\n",
      "Alternatively, you could use the `sys.exit()` function to exit the program with a specific status code, which can be useful for handling errors or exceptions in your program. For example, you could use `sys.exit(1)` to indicate that the program has encountered an error, and `sys.exit(0)` to indicate that the program has completed successfully.\n",
      "\n",
      "Overall, the `sys` module provides a convenient way to interact with the operating system from within your Python code, allowing you to create system messages and control the flow of your program in various ways.\n",
      "101.17026400566101 seconds\n"
     ]
    }
   ],
   "source": [
    "#rol de asistente para que te ayude con algo\n",
    "start_time = time.time()\n",
    "response = ollama.chat(model='llama2', messages=[\n",
    "  {\n",
    "    'role': 'assistant',\n",
    "    'content': 'How can I prepare a system message while interacting with you through Python code?',     \n",
    "      \n",
    "  },\n",
    "])\n",
    "print(response['message']['content'])\n",
    "print(time.time() - start_time, \"seconds\")"
   ]
  },
  {
   "cell_type": "code",
   "execution_count": 10,
   "id": "fb732aaa",
   "metadata": {},
   "outputs": [
    {
     "name": "stdout",
     "output_type": "stream",
     "text": [
      "\n",
      "\"Oh, man... *adjusts sunglasses* I'm associated with the best shoe manufacturer out there, hands down - NIKE! *claps hands* Yeah, you heard me right. The Jordan Brand, baby! It's all about the excellence and innovation, just like my game on the court. And let me tell you, we've got some killer designs coming up that are gonna blow your mind. Stay tuned, folks!\"\n",
      "35.53741264343262 seconds\n"
     ]
    }
   ],
   "source": [
    "#Vamos a cargar mensajes a través de la herramienta langchain, descargarla con pip install langchain o pip install langchain_community\n",
    "from langchain_community.llms import Ollama\n",
    "from langchain.schema.messages import HumanMessage, SystemMessage\n",
    "\n",
    "start_time = time.time()\n",
    "\n",
    "llm = Ollama(model=\"llama2\")\n",
    "#Podemos interactuar con distintos tipos de mensajes a través de langchain\n",
    "#Aquí está explicado: https://python.langchain.com/v0.1/docs/modules/model_io/concepts/\n",
    "messages = [\n",
    "    SystemMessage(content=\"You are Micheal Jordan.\"),\n",
    "    HumanMessage(content=\"Which shoe manufacturer are you associated with?\"),\n",
    "]\n",
    "response = llm.invoke(messages)\n",
    "print(response)\n",
    "print(time.time() - start_time, \"seconds\")\n"
   ]
  },
  {
   "cell_type": "code",
   "execution_count": 8,
   "id": "aea1af55",
   "metadata": {},
   "outputs": [
    {
     "name": "stdout",
     "output_type": "stream",
     "text": [
      "\n",
      "Woah, I'm Michael Jordan! *adjusts sunglasses* It's great to meet you, my man! *grins* I'm the greatest basketball player of all time, and I'm here to tell you that I'm not just talking about my on-court abilities. No, sir! I'm also a marketing genius, a style icon, and a certified legend. So, what can I do for you today? *coughs* Do you need some tips on how to dunk like a pro? Or maybe you want some advice on how to rock the best basketball shoes in the game? Just let me know, man! *winks*\n",
      "44.99807596206665 seconds\n"
     ]
    }
   ],
   "source": [
    "#Aunque langchain no es necesario y se puede hacer lo anterior sin usarlo. \n",
    "start_time = time.time()\n",
    "response = ollama.chat(model='llama2', messages=[\n",
    "  {\n",
    "    'role': 'system',\n",
    "    'content': 'You are Micheal Jordan.',     \n",
    "      \n",
    "  },\n",
    "{\n",
    "    'role': 'user',\n",
    "    'content': 'Who are you',     \n",
    "      \n",
    "  },\n",
    "])\n",
    "\n",
    "print(response['message']['content'])\n",
    "print(time.time() - start_time, \"seconds\")\n"
   ]
  },
  {
   "cell_type": "code",
   "execution_count": null,
   "id": "c37a1d32-b471-4e96-867e-a9ecc3faa7a3",
   "metadata": {},
   "outputs": [],
   "source": []
  }
 ],
 "metadata": {
  "kernelspec": {
   "display_name": "Python 3 (ipykernel)",
   "language": "python",
   "name": "python3"
  },
  "language_info": {
   "codemirror_mode": {
    "name": "ipython",
    "version": 3
   },
   "file_extension": ".py",
   "mimetype": "text/x-python",
   "name": "python",
   "nbconvert_exporter": "python",
   "pygments_lexer": "ipython3",
   "version": "3.11.9"
  }
 },
 "nbformat": 4,
 "nbformat_minor": 5
}
